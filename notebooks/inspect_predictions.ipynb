{
 "cells": [
  {
   "cell_type": "code",
   "execution_count": null,
   "id": "92efc4f6-7a2c-4625-83fd-837dda304598",
   "metadata": {},
   "outputs": [],
   "source": [
    "import torch\n",
    "import nibabel as nib\n",
    "import numpy as np\n",
    "import matplotlib.pyplot as plt\n",
    "from model import UNet3D\n",
    "from preprocess import load_decathlon_image, load_decathlon_mask\n"
   ]
  },
  {
   "cell_type": "code",
   "execution_count": null,
   "id": "bd7f7111-a799-48a6-bdd7-dea5070fbc02",
   "metadata": {},
   "outputs": [],
   "source": [
    "def visualize_slice(image, gt_mask, pred_mask, slice_idx=None):\n",
    "    \"\"\"Show overlay for a single slice\"\"\"\n",
    "    if slice_idx is None:\n",
    "        slice_idx = image.shape[2] // 2\n",
    "\n",
    "    fig, axs = plt.subplots(1, 3, figsize=(15, 5))\n",
    "    axs[0].imshow(image[:, :, slice_idx], cmap='gray')\n",
    "    axs[0].set_title(\"MRI Slice\")\n",
    "    axs[1].imshow(gt_mask[:, :, slice_idx], cmap='Reds')\n",
    "    axs[1].set_title(\"Ground Truth\")\n",
    "    axs[2].imshow(pred_mask[:, :, slice_idx], cmap='Blues')\n",
    "    axs[2].set_title(\"Prediction\")\n",
    "    plt.show()\n"
   ]
  },
  {
   "cell_type": "code",
   "execution_count": null,
   "id": "c07499fc-766b-401f-9087-53766c4fce07",
   "metadata": {},
   "outputs": [],
   "source": [
    "# Paths\n",
    "model_path = \"runs/experiment_1/best_model.pth\"\n",
    "image_path = \"data/processed/val/images/BraTS_001.nii.gz\"\n",
    "mask_path  = \"data/processed/val/masks/BraTS_001.nii.gz\"\n"
   ]
  },
  {
   "cell_type": "code",
   "execution_count": null,
   "id": "918bff85-77c9-4a16-a004-3ef3d0972fd4",
   "metadata": {},
   "outputs": [],
   "source": [
    "# Load data\n",
    "image = load_decathlon_image(image_path)\n",
    "mask = load_decathlon_mask(mask_path)\n"
   ]
  },
  {
   "cell_type": "code",
   "execution_count": null,
   "id": "16bc70ae-a0cd-4bdf-9470-90a5f0018900",
   "metadata": {},
   "outputs": [],
   "source": [
    "# Prepare model\n",
    "device = torch.device(\"cuda\" if torch.cuda.is_available() else \"cpu\")\n",
    "model = UNet3D(in_channels=image.shape[0], out_channels=1).to(device)\n",
    "model.load_state_dict(torch.load(model_path, map_location=device))\n",
    "model.eval()\n"
   ]
  },
  {
   "cell_type": "code",
   "execution_count": null,
   "id": "8648c447-de33-4514-97c3-61c4aae9ea99",
   "metadata": {},
   "outputs": [],
   "source": [
    "# Inference\n",
    "with torch.no_grad():\n",
    "    input_tensor = torch.tensor(image[None], dtype=torch.float32).to(device)  # shape: (1, C, H, W, D)\n",
    "    output = model(input_tensor)\n",
    "    pred = torch.sigmoid(output).squeeze().cpu().numpy()\n",
    "    pred_mask = (pred > 0.5).astype(np.uint8)\n"
   ]
  },
  {
   "cell_type": "code",
   "execution_count": null,
   "id": "303cb74b-3c56-4394-8e73-fbfc4523119b",
   "metadata": {},
   "outputs": [],
   "source": [
    "# Visualize\n",
    "visualize_slice(image[0], mask, pred_mask)\n"
   ]
  }
 ],
 "metadata": {
  "kernelspec": {
   "display_name": "Python 3 (ipykernel)",
   "language": "python",
   "name": "python3"
  },
  "language_info": {
   "codemirror_mode": {
    "name": "ipython",
    "version": 3
   },
   "file_extension": ".py",
   "mimetype": "text/x-python",
   "name": "python",
   "nbconvert_exporter": "python",
   "pygments_lexer": "ipython3",
   "version": "3.11.5"
  }
 },
 "nbformat": 4,
 "nbformat_minor": 5
}
